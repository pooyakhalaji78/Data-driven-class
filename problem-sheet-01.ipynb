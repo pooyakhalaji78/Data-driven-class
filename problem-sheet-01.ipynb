{
 "cells": [
  {
   "cell_type": "markdown",
   "id": "20394837",
   "metadata": {
    "deletable": false,
    "editable": false,
    "slideshow": {
     "slide_type": ""
    },
    "tags": []
   },
   "source": [
    "# Problem Class 1\n",
    "<div class=\"alert alert-block alert-info\">\n",
    "<b>Instructions:</b> \n",
    "    Please attempt all questions below using Python or another scienfic language computing of your choice (e.g., MATLAB or Julia). The use of Python and Jupyter notebooks is strongly recommended.\n",
    "</div>\n"
   ]
  },
  {
   "cell_type": "markdown",
   "id": "34fa71f4-7807-4551-a698-bae73680c213",
   "metadata": {
    "editable": false,
    "slideshow": {
     "slide_type": ""
    },
    "tags": []
   },
   "source": [
    "## Question 1"
   ]
  },
  {
   "cell_type": "markdown",
   "id": "7271dc52-1b0f-4ffd-86f5-01e323f6c4b6",
   "metadata": {
    "editable": false,
    "slideshow": {
     "slide_type": ""
    },
    "tags": []
   },
   "source": [
    "Let $Tr(M)$ denote the trace (=sum of diagonal entries) of a square matrix.\n",
    "1) Show that $\\langle A, B \\rangle = Tr(A^* B)$ for every pair of matrices $A,B\\in\\mathbb{C}^{m\\times n}$\n",
    "2) Show that $Tr(A B C) = Tr(C A B)= Tr(B C A)$ for every choice of matrices $A\\in\\mathbb{C}^{m\\times n}$, $B\\in\\mathbb{C}^{n\\times p}$, $C\\in\\mathbb{C}^{p\\times m}$.\n",
    "3) Using the results in parts 1) and 2), show that $\\langle AB, C\\rangle = \\langle B, A^* C\\rangle = \\langle A, C B^*\\rangle$ for every choice of matrices $A\\in\\mathbb{C}^{m\\times n}$, $B\\in\\mathbb{C}^{n\\times p}$, $C\\in\\mathbb{C}^{m\\times p}$. "
   ]
  },
  {
   "cell_type": "markdown",
   "id": "e9c373f7-3015-460b-9117-c00f88c39777",
   "metadata": {
    "editable": true,
    "slideshow": {
     "slide_type": ""
    },
    "tags": []
   },
   "source": [
    "### Solution"
   ]
  },
  {
   "cell_type": "code",
   "execution_count": null,
   "id": "0b46fd6c-4c15-4b06-a70c-8e8b0f227545",
   "metadata": {
    "editable": true,
    "slideshow": {
     "slide_type": ""
    },
    "tags": []
   },
   "outputs": [],
   "source": [
    "# Better to solve this question with pen and paper!"
   ]
  },
  {
   "cell_type": "markdown",
   "id": "93a1ff2d-2eb3-4ba4-9427-ea11435b5b49",
   "metadata": {
    "deletable": false,
    "editable": false,
    "slideshow": {
     "slide_type": ""
    },
    "tags": []
   },
   "source": [
    "## Question 2"
   ]
  },
  {
   "cell_type": "markdown",
   "id": "cfc3849b-f33e-4622-9aa4-e6c0be3005d9",
   "metadata": {
    "deletable": false,
    "editable": false,
    "slideshow": {
     "slide_type": ""
    },
    "tags": []
   },
   "source": [
    "Compute the SVD of the matrix\n",
    "$$A = \\begin{pmatrix}1 & 2 & 3\\\\4 & 5 & 6\\end{pmatrix}$$\n",
    "and display:\n",
    "1. The singular values\n",
    "2. The left singular vectors\n",
    "3. The right singular vectors"
   ]
  },
  {
   "cell_type": "markdown",
   "id": "d502badb-70a8-4ec7-806d-c11c8ed33858",
   "metadata": {
    "editable": false,
    "slideshow": {
     "slide_type": ""
    },
    "tags": []
   },
   "source": [
    "### Solution"
   ]
  },
  {
   "cell_type": "code",
   "execution_count": null,
   "id": "a3c857c3-988f-48e0-a688-8727fbd27aa6",
   "metadata": {
    "editable": true,
    "slideshow": {
     "slide_type": ""
    },
    "tags": []
   },
   "outputs": [],
   "source": [
    "# Implement your solution here"
   ]
  },
  {
   "cell_type": "markdown",
   "id": "c1edd736-67c7-4a1b-858b-ea343882cc7b",
   "metadata": {
    "deletable": false,
    "editable": false,
    "slideshow": {
     "slide_type": ""
    },
    "tags": []
   },
   "source": [
    "## Question 3"
   ]
  },
  {
   "cell_type": "markdown",
   "id": "45bfa8e7-6d1d-4fbd-848d-8c8c3c1bcc59",
   "metadata": {
    "deletable": false,
    "editable": false,
    "slideshow": {
     "slide_type": ""
    },
    "tags": []
   },
   "source": [
    "Create a random matrix $A$ of size $50 \\times 100$ and plot its singular values. Do not forget to label the axes!\n",
    "\n",
    "**Bonus:** Answer the question without computing the singular vectors."
   ]
  },
  {
   "cell_type": "markdown",
   "id": "13c6a8eb-3a23-4c75-ae86-30474a792fc1",
   "metadata": {
    "deletable": false,
    "editable": false,
    "slideshow": {
     "slide_type": ""
    },
    "tags": []
   },
   "source": [
    "### Solution"
   ]
  },
  {
   "cell_type": "code",
   "execution_count": null,
   "id": "fb8cd328-863f-4efe-ba76-02970277ecb0",
   "metadata": {
    "editable": true,
    "slideshow": {
     "slide_type": ""
    },
    "tags": []
   },
   "outputs": [],
   "source": [
    "# Implement your solution here"
   ]
  },
  {
   "cell_type": "markdown",
   "id": "03d3f2c7-727a-42f3-9b45-58601e9f4644",
   "metadata": {
    "deletable": false,
    "editable": false,
    "slideshow": {
     "slide_type": ""
    },
    "tags": []
   },
   "source": [
    "## Question 4 (Further practice)"
   ]
  },
  {
   "cell_type": "markdown",
   "id": "cc142994-040f-4d75-a3eb-21cf1b0e3a42",
   "metadata": {
    "deletable": false,
    "editable": false,
    "slideshow": {
     "slide_type": ""
    },
    "tags": []
   },
   "source": [
    "The following lines of code import and plot a grayscale PNG image. The image is stored as a matrix (2D array) called `F`, and each element $F_{ij}$ of the matrix gives the grescale color of the pixel in position $(i,j)$.\n"
   ]
  },
  {
   "cell_type": "code",
   "execution_count": 1,
   "id": "54e169b7-4f91-45db-92a7-87a67781b207",
   "metadata": {
    "deletable": false,
    "editable": false,
    "slideshow": {
     "slide_type": ""
    },
    "tags": []
   },
   "outputs": [
    {
     "data": {
      "image/png": "[encoded data removed]",
      "text/plain": [
       "<Figure size 640x480 with 1 Axes>"
      ]
     },
     "metadata": {},
     "output_type": "display_data"
    }
   ],
   "source": [
    "import matplotlib.pyplot as plt\n",
    "F = plt.imread('../data/fau.png')\n",
    "plt.imshow(F, cmap='gray')\n",
    "ax = plt.gca()\n",
    "ax.set_xticks([])\n",
    "ax.set_yticks([]);"
   ]
  },
  {
   "cell_type": "markdown",
   "id": "37c3663b-01ee-4eb4-8c55-608deef858cd",
   "metadata": {
    "deletable": false,
    "editable": false,
    "slideshow": {
     "slide_type": ""
    },
    "tags": []
   },
   "source": [
    "Choose a suitable integer value of $r$ and use the SVD to find a rank-$r$ approximation of the matrix $F$. Then, use the plotting commands above to plot your approximation. What is the smallest value of $r$ giving an approximation with 95% accuracy?"
   ]
  },
  {
   "cell_type": "markdown",
   "id": "f402a0a4-5839-403d-aad3-2760d68a955a",
   "metadata": {
    "deletable": false,
    "editable": false,
    "slideshow": {
     "slide_type": ""
    },
    "tags": []
   },
   "source": [
    "### Solution"
   ]
  },
  {
   "cell_type": "code",
   "execution_count": null,
   "id": "01c0e14f-861f-4ed9-9713-e9f3077add60",
   "metadata": {
    "editable": true,
    "slideshow": {
     "slide_type": ""
    },
    "tags": []
   },
   "outputs": [],
   "source": [
    "# Implement your solution here"
   ]
  }
 ],
 "metadata": {
  "celltoolbar": "Edit Metadata",
  "kernelspec": {
   "display_name": "Python 3 (ipykernel)",
   "language": "python",
   "name": "python3"
  },
  "language_info": {
   "codemirror_mode": {
    "name": "ipython",
    "version": 3
   },
   "file_extension": ".py",
   "mimetype": "text/x-python",
   "name": "python",
   "nbconvert_exporter": "python",
   "pygments_lexer": "ipython3",
   "version": "3.10.12"
  }
 },
 "nbformat": 4,
 "nbformat_minor": 5
}
